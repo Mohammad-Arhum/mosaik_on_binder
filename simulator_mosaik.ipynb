{
 "cells": [
  {
   "cell_type": "code",
   "execution_count": 2,
   "id": "27274978-bb11-4553-80fc-1676ac75d071",
   "metadata": {},
   "outputs": [
    {
     "name": "stdout",
     "output_type": "stream",
     "text": [
      "importing Jupyter notebook from example_model.ipynb\n"
     ]
    }
   ],
   "source": [
    "import import_ipynb\n",
    "import mosaik_api\n",
    "import example_model\n"
   ]
  },
  {
   "cell_type": "code",
   "execution_count": 3,
   "id": "5273edda-a9ad-47b5-a4af-f5451dcf7527",
   "metadata": {},
   "outputs": [],
   "source": [
    "\"\"\"\n",
    "Mosaik interface for the example simulator.\n",
    "\n",
    "\"\"\"\n",
    "\n",
    "META = {\n",
    "    'type': 'time-based',\n",
    "    'models': {\n",
    "        'ExampleModel': {\n",
    "            'public': True,\n",
    "            'params': ['init_val'],\n",
    "            'attrs': ['delta', 'val'],\n",
    "        },\n",
    "    },\n",
    "}\n",
    "\n",
    "\n",
    "class ExampleSim(mosaik_api.Simulator):\n",
    "    def __init__(self):\n",
    "        super().__init__(META)\n",
    "        self.eid_prefix = 'Model_'\n",
    "        self.entities = {}  # Maps EIDs to model instances/entities\n",
    "        self.time = 0\n",
    "\n",
    "    def init(self, sid, time_resolution, eid_prefix=None):\n",
    "        if float(time_resolution) != 1.:\n",
    "            raise ValueError('ExampleSim only supports time_resolution=1., but'\n",
    "                             ' %s was set.' % time_resolution)\n",
    "        if eid_prefix is not None:\n",
    "            self.eid_prefix = eid_prefix\n",
    "        return self.meta\n",
    "\n",
    "    def create(self, num, model, init_val):\n",
    "        next_eid = len(self.entities)\n",
    "        entities = []\n",
    "\n",
    "        for i in range(next_eid, next_eid + num):\n",
    "            model_instance = example_model.Model(init_val)\n",
    "            eid = '%s%d' % (self.eid_prefix, i)\n",
    "            self.entities[eid] = model_instance\n",
    "            entities.append({'eid': eid, 'type': model})\n",
    "\n",
    "        return entities\n",
    "\n",
    "\n",
    "    def step(self, time, inputs, max_advance):\n",
    "        self.time = time\n",
    "        # Check for new delta and do step for each model instance:\n",
    "        for eid, model_instance in self.entities.items():\n",
    "            if eid in inputs:\n",
    "                attrs = inputs[eid]\n",
    "                for attr, values in attrs.items():\n",
    "                    new_delta = sum(values.values())\n",
    "                model_instance.delta = new_delta\n",
    "\n",
    "            model_instance.step()\n",
    "\n",
    "        return time + 1  # Step size is 1 second\n",
    "\n",
    "    def get_data(self, outputs):\n",
    "        data = {}\n",
    "        for eid, attrs in outputs.items():\n",
    "            model = self.entities[eid]\n",
    "            data['time'] = self.time\n",
    "            data[eid] = {}\n",
    "            for attr in attrs:\n",
    "                if attr not in self.meta['models']['ExampleModel']['attrs']:\n",
    "                    raise ValueError('Unknown output attribute: %s' % attr)\n",
    "\n",
    "                # Get model.val or model.delta:\n",
    "                data[eid][attr] = getattr(model, attr)\n",
    "\n",
    "        return data\n",
    "\n",
    "\n",
    "def main():\n",
    "    return mosaik_api.start_simulation(ExampleSim())\n",
    "\n",
    "\n",
    "# if __name__ == '__main__':\n",
    "#     main()"
   ]
  },
  {
   "cell_type": "code",
   "execution_count": null,
   "id": "b9a983c2-dd19-4d11-ab7f-fbf3b8f1fbdd",
   "metadata": {},
   "outputs": [],
   "source": []
  }
 ],
 "metadata": {
  "kernelspec": {
   "display_name": "mosaik",
   "language": "python",
   "name": "mosaik"
  },
  "language_info": {
   "codemirror_mode": {
    "name": "ipython",
    "version": 3
   },
   "file_extension": ".py",
   "mimetype": "text/x-python",
   "name": "python",
   "nbconvert_exporter": "python",
   "pygments_lexer": "ipython3",
   "version": "3.9.4"
  }
 },
 "nbformat": 4,
 "nbformat_minor": 5
}
