{
 "cells": [
  {
   "cell_type": "code",
   "execution_count": 1,
   "id": "8a625dae-f583-4194-8af3-94055517b6ab",
   "metadata": {},
   "outputs": [
    {
     "name": "stdout",
     "output_type": "stream",
     "text": [
      "Starting \"ExampleSim\" as \"ExampleSim-0\" ...\n",
      "importing Jupyter notebook from simulator_mosaik.ipynb\n",
      "importing Jupyter notebook from example_model.ipynb\n",
      "Starting \"Collector\" as \"Collector-0\" ...\n",
      "importing Jupyter notebook from collector.ipynb\n",
      "Starting simulation.\n",
      "Simulation finished successfully.\n",
      "Collected data:\n",
      "- ExampleSim-0.Model_0:\n",
      "  - delta: {0: 1, 1: 1, 2: 1, 3: 1, 4: 1, 5: 1, 6: 1, 7: 1, 8: 1, 9: 1}\n",
      "  - val: {0: 3, 1: 4, 2: 5, 3: 6, 4: 7, 5: 8, 6: 9, 7: 10, 8: 11, 9: 12}\n",
      "- ExampleSim-0.Model_1:\n",
      "  - delta: {0: 1, 1: 1, 2: 1, 3: 1, 4: 1, 5: 1, 6: 1, 7: 1, 8: 1, 9: 1}\n",
      "  - val: {0: 4, 1: 5, 2: 6, 3: 7, 4: 8, 5: 9, 6: 10, 7: 11, 8: 12, 9: 13}\n",
      "- ExampleSim-0.Model_2:\n",
      "  - delta: {0: 1, 1: 1, 2: 1, 3: 1, 4: 1, 5: 1, 6: 1, 7: 1, 8: 1, 9: 1}\n",
      "  - val: {0: 4, 1: 5, 2: 6, 3: 7, 4: 8, 5: 9, 6: 10, 7: 11, 8: 12, 9: 13}\n"
     ]
    }
   ],
   "source": [
    "import mosaik\n",
    "import mosaik.util\n",
    "import import_ipynb\n",
    "\n",
    "# Sim config. and other parameters\n",
    "SIM_CONFIG = {\n",
    "    'ExampleSim': {\n",
    "        'python': 'simulator_mosaik:ExampleSim',\n",
    "    },\n",
    "    'Collector': {\n",
    "        #'cmd': '%(python)s collector.py %(addr)s',\n",
    "        'python': 'collector:Collector',\n",
    "    },\n",
    "}\n",
    "END = 10  # 10 seconds\n",
    "\n",
    "# Create World\n",
    "world = mosaik.World(SIM_CONFIG)\n",
    "\n",
    "# Start simulators\n",
    "examplesim = world.start('ExampleSim', eid_prefix='Model_')\n",
    "collector = world.start('Collector')\n",
    "\n",
    "# Instantiate models\n",
    "model = examplesim.ExampleModel(init_val=2)\n",
    "monitor = collector.Monitor()\n",
    "\n",
    "# Connect entities\n",
    "world.connect(model, monitor, 'val', 'delta')\n",
    "\n",
    "# Create more entities\n",
    "more_models = examplesim.ExampleModel.create(2, init_val=3)\n",
    "mosaik.util.connect_many_to_one(world, more_models, monitor, 'val', 'delta')\n",
    "\n",
    "# Run simulation\n",
    "world.run(until=END)"
   ]
  },
  {
   "cell_type": "code",
   "execution_count": null,
   "id": "952e4300-7a3d-4d18-8289-ab5a3fd9f186",
   "metadata": {},
   "outputs": [],
   "source": []
  }
 ],
 "metadata": {
  "kernelspec": {
   "display_name": "mosaik",
   "language": "python",
   "name": "mosaik"
  },
  "language_info": {
   "codemirror_mode": {
    "name": "ipython",
    "version": 3
   },
   "file_extension": ".py",
   "mimetype": "text/x-python",
   "name": "python",
   "nbconvert_exporter": "python",
   "pygments_lexer": "ipython3",
   "version": "3.9.4"
  }
 },
 "nbformat": 4,
 "nbformat_minor": 5
}
