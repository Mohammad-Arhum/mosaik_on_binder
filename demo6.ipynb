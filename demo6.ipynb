{
 "cells": [
  {
   "cell_type": "markdown",
   "metadata": {},
   "source": [
    "Import packages needed for the scenario."
   ]
  },
  {
   "cell_type": "code",
   "execution_count": 1,
   "metadata": {
    "collapsed": true
   },
   "outputs": [],
   "source": [
    "import mosaik\n",
    "from mosaik.util import connect_randomly, connect_many_to_one\n",
    "\n",
    "import data.webvis_data as wv_data"
   ]
  },
  {
   "cell_type": "markdown",
   "metadata": {},
   "source": [
    "Specify simulator configurations."
   ]
  },
  {
   "cell_type": "code",
   "execution_count": 2,
   "metadata": {
    "collapsed": true
   },
   "outputs": [],
   "source": [
    "sim_config = {\n",
    "    'PyPower': {\n",
    "        'python': 'mosaik_pypower.mosaik:PyPower'\n",
    "    },\n",
    "    'CSV': {\n",
    "        'python': 'simulators.ws2017_csv_sim:CSV'\n",
    "    },\n",
    "    'DB': {\n",
    "        'cmd': 'mosaik-hdf5 %(addr)s'\n",
    "    },\n",
    "    'WebVis': {\n",
    "        'cmd': 'mosaik-web -s 0.0.0.0:8000 %(addr)s'\n",
    "    },\n",
    "    'Ctrl': {\n",
    "        'python': 'simulators.ws2017_pv_controller:Controller'\n",
    "    },\n",
    "    'PV': {\n",
    "        'python': 'simulators.ws2017_pv_simulator:PvAdapter'\n",
    "    }\n",
    "}"
   ]
  },
  {
   "cell_type": "markdown",
   "metadata": {},
   "source": [
    "Add solar irradiation data file."
   ]
  },
  {
   "cell_type": "code",
   "execution_count": 3,
   "metadata": {
    "collapsed": true
   },
   "outputs": [],
   "source": [
    "END = 7 * 24 * 60 * 60 # one week in seconds\n",
    "START = '2014-01-01 01:00:00'\n",
    "PROFILE_DATA = 'data/mprofiles.txt' # .data in your setup\n",
    "GRID_FILE = 'data/demo_lv_grid.json'\n",
    "#PV_DATA = 'data/pv_10kw.txt'\n",
    "SOL_DATA = 'data/solar_data.txt' # .csv in your setup"
   ]
  },
  {
   "cell_type": "markdown",
   "metadata": {},
   "source": [
    "Set up the \"world\" of the scenario."
   ]
  },
  {
   "cell_type": "code",
   "execution_count": 4,
   "metadata": {
    "collapsed": true
   },
   "outputs": [],
   "source": [
    "world = mosaik.World(sim_config)"
   ]
  },
  {
   "cell_type": "markdown",
   "metadata": {},
   "source": [
    "Initialize the simulators."
   ]
  },
  {
   "cell_type": "code",
   "execution_count": 5,
   "metadata": {},
   "outputs": [
    {
     "name": "stdout",
     "output_type": "stream",
     "text": [
      "Starting \"PyPower\" as \"PyPower-0\" ...\n",
      "Starting \"CSV\" as \"CSV-0\" ...\n",
      "Starting \"Ctrl\" as \"Ctrl-0\" ...\n",
      "Starting \"CSV\" as \"CSV-1\" ...\n",
      "Starting \"PV\" as \"PV-0\" ...\n"
     ]
    }
   ],
   "source": [
    "pypower = world.start('PyPower', step_size=15*60)\n",
    "hhsim = world.start('CSV', sim_start=START, datafile=PROFILE_DATA)\n",
    "#pvsim = world.start('CSV', sim_start=START, datafile=PV_DATA)\n",
    "ctrlsim = world.start('Ctrl', step_size=60)\n",
    "solsim = world.start('CSV', sim_start=START, datafile=SOL_DATA)\n",
    "pvsim = world.start('PV', start_date=START)"
   ]
  },
  {
   "cell_type": "markdown",
   "metadata": {},
   "source": [
    "Instantiate model entities."
   ]
  },
  {
   "cell_type": "code",
   "execution_count": 6,
   "metadata": {
    "collapsed": true
   },
   "outputs": [],
   "source": [
    "grid = pypower.Grid(gridfile=GRID_FILE).children\n",
    "houses = hhsim.House.create(50)\n",
    "\n",
    "nodes = [element for element in grid if 'node' in element.eid]\n",
    "\n",
    "#pvs = pvsim.PV.create(20)\n",
    "ctrls = ctrlsim.Ctrl.create(20, target_attr='mod') # changed target attribut\n",
    "\n",
    "sun = solsim.Sun()\n",
    "pvs = pvsim.PV.create(20, lat=32.2, area=2.2, efficiency=0.3, el_tilt=32.2, az_tilt=0.0)"
   ]
  },
  {
   "cell_type": "markdown",
   "metadata": {},
   "source": [
    "Connect model entities."
   ]
  },
  {
   "cell_type": "code",
   "execution_count": 7,
   "metadata": {
    "collapsed": true,
    "scrolled": true
   },
   "outputs": [],
   "source": [
    "connect_randomly(world, houses, nodes, 'P')\n",
    "connect_randomly(world, pvs, nodes, 'P')\n",
    "\n",
    "for i in range(len(pvs)):\n",
    "    world.connect(pvs[i], ctrls[i], 'P', async_requests=True) # Cyclic data flow!\n",
    "    world.connect(sun, pvs[i], 'DNI')"
   ]
  },
  {
   "cell_type": "markdown",
   "metadata": {},
   "source": [
    "Initialize, configure and instantiate visualization tool."
   ]
  },
  {
   "cell_type": "code",
   "execution_count": 8,
   "metadata": {},
   "outputs": [
    {
     "name": "stdout",
     "output_type": "stream",
     "text": [
      "Starting \"WebVis\" as \"WebVis-0\" ...\n"
     ]
    }
   ],
   "source": [
    "webvis = world.start('WebVis', start_date=START, step_size=60)\n",
    "webvis.set_config(ignore_types=['Topology', 'Grid', 'Database', 'Sun'])\n",
    "vis_topo = webvis.Topology()"
   ]
  },
  {
   "cell_type": "markdown",
   "metadata": {},
   "source": [
    "Connect model entities to visualizer."
   ]
  },
  {
   "cell_type": "code",
   "execution_count": 9,
   "metadata": {
    "collapsed": true
   },
   "outputs": [],
   "source": [
    "busses = [elem for elem in grid if elem.type in ('RefBus', 'PQBus')]\n",
    "connect_many_to_one(world, busses, vis_topo, 'P', 'Vm')\n",
    "connect_many_to_one(world, houses, vis_topo, 'P')\n",
    "\n",
    "connect_many_to_one(world, pvs, vis_topo, 'P')\n",
    "\n",
    "webvis.set_etypes(wv_data.etypes) # Additional configuration of visualization (special to this tool)"
   ]
  },
  {
   "cell_type": "markdown",
   "metadata": {},
   "source": [
    "Execute co-simulation."
   ]
  },
  {
   "cell_type": "code",
   "execution_count": 10,
   "metadata": {},
   "outputs": [
    {
     "name": "stdout",
     "output_type": "stream",
     "text": [
      "Starting simulation.\n",
      "Simulation finished successfully.\n"
     ]
    }
   ],
   "source": [
    "world.run(until=END)"
   ]
  },
  {
   "cell_type": "code",
   "execution_count": null,
   "metadata": {
    "collapsed": true
   },
   "outputs": [],
   "source": []
  }
 ],
 "metadata": {
  "kernelspec": {
   "display_name": "Python 3",
   "language": "python",
   "name": "python3"
  },
  "language_info": {
   "codemirror_mode": {
    "name": "ipython",
    "version": 3
   },
   "file_extension": ".py",
   "mimetype": "text/x-python",
   "name": "python",
   "nbconvert_exporter": "python",
   "pygments_lexer": "ipython3",
   "version": "3.5.2"
  }
 },
 "nbformat": 4,
 "nbformat_minor": 2
}
