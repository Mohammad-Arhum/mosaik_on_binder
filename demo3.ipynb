{
 "cells": [
  {
   "cell_type": "markdown",
   "metadata": {},
   "source": [
    "Import packages needed for the scenario."
   ]
  },
  {
   "cell_type": "code",
   "execution_count": 1,
   "metadata": {},
   "outputs": [],
   "source": [
    "import mosaik\n",
    "from mosaik.util import connect_randomly, connect_many_to_one\n",
    "\n",
    "import data.webvis_data as wv_data"
   ]
  },
  {
   "cell_type": "markdown",
   "metadata": {},
   "source": [
    "Specify simulator configurations."
   ]
  },
  {
   "cell_type": "code",
   "execution_count": 2,
   "metadata": {},
   "outputs": [],
   "source": [
    "sim_config = {\n",
    "    'PyPower': {\n",
    "        'python': 'mosaik_pypower.mosaik:PyPower'\n",
    "    },\n",
    "    'CSV': {\n",
    "        'python': 'simulators.ws2017_csv_sim:CSV'\n",
    "    },\n",
    "    'DB': {\n",
    "        'cmd': 'mosaik-hdf5 %(addr)s'\n",
    "    },\n",
    "    'WebVis': {\n",
    "        'cmd': 'mosaik-web -s 0.0.0.0:8000 %(addr)s'\n",
    "    }\n",
    "}"
   ]
  },
  {
   "cell_type": "markdown",
   "metadata": {},
   "source": [
    "Extend simulation time."
   ]
  },
  {
   "cell_type": "code",
   "execution_count": 3,
   "metadata": {},
   "outputs": [],
   "source": [
    "END = 7 * 24 * 60 * 60 # one week in seconds\n",
    "START = '2014-01-01 00:00:00'\n",
    "PROFILE_DATA = 'data/mprofiles.txt' # .data in your setup\n",
    "GRID_FILE = 'data/demo_lv_grid.json'"
   ]
  },
  {
   "cell_type": "markdown",
   "metadata": {},
   "source": [
    "Set up the \"world\" of the scenario."
   ]
  },
  {
   "cell_type": "code",
   "execution_count": 4,
   "metadata": {},
   "outputs": [],
   "source": [
    "world = mosaik.World(sim_config)"
   ]
  },
  {
   "cell_type": "markdown",
   "metadata": {},
   "source": [
    "Initialize the simulators."
   ]
  },
  {
   "cell_type": "code",
   "execution_count": 5,
   "metadata": {},
   "outputs": [
    {
     "name": "stdout",
     "output_type": "stream",
     "text": [
      "Starting \"PyPower\" as \"PyPower-0\" ...\n",
      "Starting \"CSV\" as \"CSV-0\" ...\n"
     ]
    }
   ],
   "source": [
    "pypower = world.start('PyPower', step_size=15*60)\n",
    "hhsim = world.start('CSV', sim_start=START, datafile=PROFILE_DATA)"
   ]
  },
  {
   "cell_type": "markdown",
   "metadata": {},
   "source": [
    "Instantiate model entities."
   ]
  },
  {
   "cell_type": "code",
   "execution_count": 6,
   "metadata": {},
   "outputs": [],
   "source": [
    "grid = pypower.Grid(gridfile=GRID_FILE).children\n",
    "houses = hhsim.House.create(50)\n",
    "\n",
    "nodes = [element for element in grid if 'node' in element.eid]"
   ]
  },
  {
   "cell_type": "markdown",
   "metadata": {},
   "source": [
    "Connect model entities."
   ]
  },
  {
   "cell_type": "code",
   "execution_count": 7,
   "metadata": {
    "scrolled": true
   },
   "outputs": [
    {
     "data": {
      "text/plain": [
       "{Entity('PyPower-0', '0-node_a1', 'PyPower', PQBus, [], <mosaik.simmanager.LocalProcess object at 0x7f5b401181d0>),\n",
       " Entity('PyPower-0', '0-node_a2', 'PyPower', PQBus, [], <mosaik.simmanager.LocalProcess object at 0x7f5b401181d0>),\n",
       " Entity('PyPower-0', '0-node_a3', 'PyPower', PQBus, [], <mosaik.simmanager.LocalProcess object at 0x7f5b401181d0>),\n",
       " Entity('PyPower-0', '0-node_b1', 'PyPower', PQBus, [], <mosaik.simmanager.LocalProcess object at 0x7f5b401181d0>),\n",
       " Entity('PyPower-0', '0-node_b10', 'PyPower', PQBus, [], <mosaik.simmanager.LocalProcess object at 0x7f5b401181d0>),\n",
       " Entity('PyPower-0', '0-node_b2', 'PyPower', PQBus, [], <mosaik.simmanager.LocalProcess object at 0x7f5b401181d0>),\n",
       " Entity('PyPower-0', '0-node_b3', 'PyPower', PQBus, [], <mosaik.simmanager.LocalProcess object at 0x7f5b401181d0>),\n",
       " Entity('PyPower-0', '0-node_b4', 'PyPower', PQBus, [], <mosaik.simmanager.LocalProcess object at 0x7f5b401181d0>),\n",
       " Entity('PyPower-0', '0-node_b5', 'PyPower', PQBus, [], <mosaik.simmanager.LocalProcess object at 0x7f5b401181d0>),\n",
       " Entity('PyPower-0', '0-node_b6', 'PyPower', PQBus, [], <mosaik.simmanager.LocalProcess object at 0x7f5b401181d0>),\n",
       " Entity('PyPower-0', '0-node_b7', 'PyPower', PQBus, [], <mosaik.simmanager.LocalProcess object at 0x7f5b401181d0>),\n",
       " Entity('PyPower-0', '0-node_b8', 'PyPower', PQBus, [], <mosaik.simmanager.LocalProcess object at 0x7f5b401181d0>),\n",
       " Entity('PyPower-0', '0-node_b9', 'PyPower', PQBus, [], <mosaik.simmanager.LocalProcess object at 0x7f5b401181d0>),\n",
       " Entity('PyPower-0', '0-node_c1', 'PyPower', PQBus, [], <mosaik.simmanager.LocalProcess object at 0x7f5b401181d0>),\n",
       " Entity('PyPower-0', '0-node_c10', 'PyPower', PQBus, [], <mosaik.simmanager.LocalProcess object at 0x7f5b401181d0>),\n",
       " Entity('PyPower-0', '0-node_c11', 'PyPower', PQBus, [], <mosaik.simmanager.LocalProcess object at 0x7f5b401181d0>),\n",
       " Entity('PyPower-0', '0-node_c12', 'PyPower', PQBus, [], <mosaik.simmanager.LocalProcess object at 0x7f5b401181d0>),\n",
       " Entity('PyPower-0', '0-node_c2', 'PyPower', PQBus, [], <mosaik.simmanager.LocalProcess object at 0x7f5b401181d0>),\n",
       " Entity('PyPower-0', '0-node_c3', 'PyPower', PQBus, [], <mosaik.simmanager.LocalProcess object at 0x7f5b401181d0>),\n",
       " Entity('PyPower-0', '0-node_c4', 'PyPower', PQBus, [], <mosaik.simmanager.LocalProcess object at 0x7f5b401181d0>),\n",
       " Entity('PyPower-0', '0-node_c5', 'PyPower', PQBus, [], <mosaik.simmanager.LocalProcess object at 0x7f5b401181d0>),\n",
       " Entity('PyPower-0', '0-node_c6', 'PyPower', PQBus, [], <mosaik.simmanager.LocalProcess object at 0x7f5b401181d0>),\n",
       " Entity('PyPower-0', '0-node_c7', 'PyPower', PQBus, [], <mosaik.simmanager.LocalProcess object at 0x7f5b401181d0>),\n",
       " Entity('PyPower-0', '0-node_c8', 'PyPower', PQBus, [], <mosaik.simmanager.LocalProcess object at 0x7f5b401181d0>),\n",
       " Entity('PyPower-0', '0-node_c9', 'PyPower', PQBus, [], <mosaik.simmanager.LocalProcess object at 0x7f5b401181d0>),\n",
       " Entity('PyPower-0', '0-node_d1', 'PyPower', PQBus, [], <mosaik.simmanager.LocalProcess object at 0x7f5b401181d0>),\n",
       " Entity('PyPower-0', '0-node_d10', 'PyPower', PQBus, [], <mosaik.simmanager.LocalProcess object at 0x7f5b401181d0>),\n",
       " Entity('PyPower-0', '0-node_d11', 'PyPower', PQBus, [], <mosaik.simmanager.LocalProcess object at 0x7f5b401181d0>),\n",
       " Entity('PyPower-0', '0-node_d12', 'PyPower', PQBus, [], <mosaik.simmanager.LocalProcess object at 0x7f5b401181d0>),\n",
       " Entity('PyPower-0', '0-node_d2', 'PyPower', PQBus, [], <mosaik.simmanager.LocalProcess object at 0x7f5b401181d0>),\n",
       " Entity('PyPower-0', '0-node_d3', 'PyPower', PQBus, [], <mosaik.simmanager.LocalProcess object at 0x7f5b401181d0>),\n",
       " Entity('PyPower-0', '0-node_d4', 'PyPower', PQBus, [], <mosaik.simmanager.LocalProcess object at 0x7f5b401181d0>),\n",
       " Entity('PyPower-0', '0-node_d5', 'PyPower', PQBus, [], <mosaik.simmanager.LocalProcess object at 0x7f5b401181d0>),\n",
       " Entity('PyPower-0', '0-node_d6', 'PyPower', PQBus, [], <mosaik.simmanager.LocalProcess object at 0x7f5b401181d0>),\n",
       " Entity('PyPower-0', '0-node_d7', 'PyPower', PQBus, [], <mosaik.simmanager.LocalProcess object at 0x7f5b401181d0>),\n",
       " Entity('PyPower-0', '0-node_d8', 'PyPower', PQBus, [], <mosaik.simmanager.LocalProcess object at 0x7f5b401181d0>),\n",
       " Entity('PyPower-0', '0-node_d9', 'PyPower', PQBus, [], <mosaik.simmanager.LocalProcess object at 0x7f5b401181d0>)}"
      ]
     },
     "execution_count": 7,
     "metadata": {},
     "output_type": "execute_result"
    }
   ],
   "source": [
    "connect_randomly(world, houses, nodes, 'P')"
   ]
  },
  {
   "cell_type": "markdown",
   "metadata": {},
   "source": [
    "Initialize, configure and instantiate visualization tool."
   ]
  },
  {
   "cell_type": "code",
   "execution_count": 8,
   "metadata": {},
   "outputs": [
    {
     "name": "stdout",
     "output_type": "stream",
     "text": [
      "Starting \"WebVis\" as \"WebVis-0\" ...\n"
     ]
    }
   ],
   "source": [
    "webvis = world.start('WebVis', start_date=START, step_size=60)\n",
    "webvis.set_config(ignore_types=['Topology', 'Grid', 'Database'])\n",
    "vis_topo = webvis.Topology()"
   ]
  },
  {
   "cell_type": "markdown",
   "metadata": {},
   "source": [
    "Connect model entities to visualizer."
   ]
  },
  {
   "cell_type": "code",
   "execution_count": 9,
   "metadata": {},
   "outputs": [],
   "source": [
    "busses = [elem for elem in grid if elem.type in ('RefBus', 'PQBus')]\n",
    "connect_many_to_one(world, busses, vis_topo, 'P', 'Vm')\n",
    "connect_many_to_one(world, houses, vis_topo, 'P')\n",
    "webvis.set_etypes(wv_data.etypes) # Additional configuration of visualization (special to this tool)"
   ]
  },
  {
   "cell_type": "markdown",
   "metadata": {},
   "source": [
    "Execute co-simulation."
   ]
  },
  {
   "cell_type": "code",
   "execution_count": 10,
   "metadata": {},
   "outputs": [
    {
     "name": "stdout",
     "output_type": "stream",
     "text": [
      "Starting simulation.\n",
      "Simulation finished successfully.\n"
     ]
    }
   ],
   "source": [
    "world.run(until=END)"
   ]
  },
  {
   "cell_type": "code",
   "execution_count": null,
   "metadata": {
    "collapsed": true
   },
   "outputs": [],
   "source": []
  }
 ],
 "metadata": {
  "kernelspec": {
   "display_name": "Python 3",
   "language": "python",
   "name": "python3"
  },
  "language_info": {
   "codemirror_mode": {
    "name": "ipython",
    "version": 3
   },
   "file_extension": ".py",
   "mimetype": "text/x-python",
   "name": "python",
   "nbconvert_exporter": "python",
   "pygments_lexer": "ipython3",
   "version": "3.5.2"
  }
 },
 "nbformat": 4,
 "nbformat_minor": 2
}
