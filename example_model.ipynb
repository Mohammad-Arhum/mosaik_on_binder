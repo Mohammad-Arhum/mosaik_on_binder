{
 "cells": [
  {
   "cell_type": "code",
   "execution_count": 1,
   "id": "4c3eea04-74f4-4738-a8bb-06fa0c2499d7",
   "metadata": {},
   "outputs": [],
   "source": [
    "\"\"\"\n",
    "This module contains a simple example model.\n",
    "\n",
    "\"\"\"\n",
    "\n",
    "\n",
    "class Model:\n",
    "    \"\"\"Simple model that increases its value *val* with some *delta* every\n",
    "    step.\n",
    "\n",
    "    You can optionally set the initial value *init_val*. It defaults to ``0``.\n",
    "\n",
    "    \"\"\"\n",
    "    def __init__(self, init_val=0):\n",
    "        self.val = init_val\n",
    "        self.delta = 1\n",
    "\n",
    "    def step(self):\n",
    "        \"\"\"Perform a simulation step by adding *delta* to *val*.\"\"\"\n",
    "        self.val += self.delta"
   ]
  },
  {
   "cell_type": "code",
   "execution_count": null,
   "id": "c7e4f9b3-60cb-4c10-88ea-8135935f83d9",
   "metadata": {},
   "outputs": [],
   "source": []
  },
  {
   "cell_type": "code",
   "execution_count": null,
   "id": "7be8191d-91cd-46b2-8516-470ad7a0c68f",
   "metadata": {},
   "outputs": [],
   "source": []
  }
 ],
 "metadata": {
  "kernelspec": {
   "display_name": "mosaik",
   "language": "python",
   "name": "mosaik"
  },
  "language_info": {
   "codemirror_mode": {
    "name": "ipython",
    "version": 3
   },
   "file_extension": ".py",
   "mimetype": "text/x-python",
   "name": "python",
   "nbconvert_exporter": "python",
   "pygments_lexer": "ipython3",
   "version": "3.9.4"
  }
 },
 "nbformat": 4,
 "nbformat_minor": 5
}
