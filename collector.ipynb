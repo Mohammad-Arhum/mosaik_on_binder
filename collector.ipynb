{
 "cells": [
  {
   "cell_type": "code",
   "execution_count": 1,
   "id": "4f4118b3-bc54-4928-9397-546d2187d797",
   "metadata": {},
   "outputs": [],
   "source": [
    "\"\"\"\n",
    "A simple data collector that prints all data when the simulation finishes.\n",
    "\n",
    "\"\"\"\n",
    "import collections\n",
    "\n",
    "import mosaik_api\n",
    "\n",
    "\n",
    "META = {\n",
    "    'type': 'event-based',\n",
    "    'models': {\n",
    "        'Monitor': {\n",
    "            'public': True,\n",
    "            'any_inputs': True,\n",
    "            'params': [],\n",
    "            'attrs': [],\n",
    "        },\n",
    "    },\n",
    "}\n",
    "\n",
    "\n",
    "class Collector(mosaik_api.Simulator):\n",
    "    def __init__(self):\n",
    "        super().__init__(META)\n",
    "        self.eid = None\n",
    "        self.data = collections.defaultdict(lambda:\n",
    "                                            collections.defaultdict(dict))\n",
    "\n",
    "    def init(self, sid, time_resolution):\n",
    "        return self.meta\n",
    "\n",
    "    def create(self, num, model):\n",
    "        if num > 1 or self.eid is not None:\n",
    "            raise RuntimeError('Can only create one instance of Monitor.')\n",
    "\n",
    "        self.eid = 'Monitor'\n",
    "        return [{'eid': self.eid, 'type': model}]\n",
    "\n",
    "    def step(self, time, inputs, max_advance):\n",
    "        data = inputs.get(self.eid, {})\n",
    "        for attr, values in data.items():\n",
    "            for src, value in values.items():\n",
    "                self.data[src][attr][time] = value\n",
    "\n",
    "        return None\n",
    "\n",
    "    def finalize(self):\n",
    "        print('Collected data:')\n",
    "        for sim, sim_data in sorted(self.data.items()):\n",
    "            print('- %s:' % sim)\n",
    "            for attr, values in sorted(sim_data.items()):\n",
    "                print('  - %s: %s' % (attr, values))\n"
   ]
  }
 ],
 "metadata": {
  "kernelspec": {
   "display_name": "mosaik",
   "language": "python",
   "name": "mosaik"
  },
  "language_info": {
   "codemirror_mode": {
    "name": "ipython",
    "version": 3
   },
   "file_extension": ".py",
   "mimetype": "text/x-python",
   "name": "python",
   "nbconvert_exporter": "python",
   "pygments_lexer": "ipython3",
   "version": "3.9.4"
  }
 },
 "nbformat": 4,
 "nbformat_minor": 5
}
