{
 "cells": [
  {
   "cell_type": "markdown",
   "metadata": {},
   "source": [
    "Add import of \"connect_many_to_one\"."
   ]
  },
  {
   "cell_type": "code",
   "execution_count": 1,
   "metadata": {},
   "outputs": [],
   "source": [
    "import mosaik\n",
    "from mosaik.util import connect_randomly, connect_many_to_one"
   ]
  },
  {
   "cell_type": "markdown",
   "metadata": {},
   "source": [
    "Add a data base to the list of components."
   ]
  },
  {
   "cell_type": "code",
   "execution_count": 2,
   "metadata": {},
   "outputs": [],
   "source": [
    "sim_config = {\n",
    "    'PyPower': {\n",
    "        'python': 'mosaik_pypower.mosaik:PyPower'\n",
    "    },\n",
    "    'CSV': {\n",
    "        'python': 'simulators.ws2017_csv_sim:CSV'\n",
    "    },\n",
    "    'DB': {\n",
    "        'cmd': 'mosaik-hdf5 %(addr)s'\n",
    "    }\n",
    "}"
   ]
  },
  {
   "cell_type": "markdown",
   "metadata": {},
   "source": [
    "Nothing changed here."
   ]
  },
  {
   "cell_type": "code",
   "execution_count": 3,
   "metadata": {},
   "outputs": [],
   "source": [
    "END = 24 * 60 * 60 # one day in seconds\n",
    "START = '2014-01-01 00:00:00'\n",
    "PROFILE_DATA = 'data/mprofiles.txt' # .data in your setup\n",
    "GRID_FILE = 'data/demo_lv_grid.json'"
   ]
  },
  {
   "cell_type": "markdown",
   "metadata": {},
   "source": [
    "Set up the \"world\" of the scenario."
   ]
  },
  {
   "cell_type": "code",
   "execution_count": 4,
   "metadata": {},
   "outputs": [],
   "source": [
    "world = mosaik.World(sim_config)"
   ]
  },
  {
   "cell_type": "markdown",
   "metadata": {},
   "source": [
    "Initialize the simulators."
   ]
  },
  {
   "cell_type": "code",
   "execution_count": 5,
   "metadata": {},
   "outputs": [
    {
     "name": "stdout",
     "output_type": "stream",
     "text": [
      "Starting \"PyPower\" as \"PyPower-0\" ...\n",
      "Starting \"CSV\" as \"CSV-0\" ...\n"
     ]
    }
   ],
   "source": [
    "pypower = world.start('PyPower', step_size=15*60)\n",
    "hhsim = world.start('CSV', sim_start=START, datafile=PROFILE_DATA)"
   ]
  },
  {
   "cell_type": "markdown",
   "metadata": {},
   "source": [
    "Instantiate model entities."
   ]
  },
  {
   "cell_type": "code",
   "execution_count": 6,
   "metadata": {},
   "outputs": [],
   "source": [
    "grid = pypower.Grid(gridfile=GRID_FILE).children\n",
    "houses = hhsim.House.create(50)\n",
    "\n",
    "nodes = [element for element in grid if 'node' in element.eid]"
   ]
  },
  {
   "cell_type": "markdown",
   "metadata": {},
   "source": [
    "Connect model entities."
   ]
  },
  {
   "cell_type": "code",
   "execution_count": 7,
   "metadata": {
    "scrolled": true
   },
   "outputs": [
    {
     "data": {
      "text/plain": [
       "{Entity('PyPower-0', '0-node_a1', 'PyPower', PQBus, [], <mosaik.simmanager.LocalProcess object at 0x7f4c2915fd30>),\n",
       " Entity('PyPower-0', '0-node_a2', 'PyPower', PQBus, [], <mosaik.simmanager.LocalProcess object at 0x7f4c2915fd30>),\n",
       " Entity('PyPower-0', '0-node_a3', 'PyPower', PQBus, [], <mosaik.simmanager.LocalProcess object at 0x7f4c2915fd30>),\n",
       " Entity('PyPower-0', '0-node_b1', 'PyPower', PQBus, [], <mosaik.simmanager.LocalProcess object at 0x7f4c2915fd30>),\n",
       " Entity('PyPower-0', '0-node_b10', 'PyPower', PQBus, [], <mosaik.simmanager.LocalProcess object at 0x7f4c2915fd30>),\n",
       " Entity('PyPower-0', '0-node_b2', 'PyPower', PQBus, [], <mosaik.simmanager.LocalProcess object at 0x7f4c2915fd30>),\n",
       " Entity('PyPower-0', '0-node_b3', 'PyPower', PQBus, [], <mosaik.simmanager.LocalProcess object at 0x7f4c2915fd30>),\n",
       " Entity('PyPower-0', '0-node_b4', 'PyPower', PQBus, [], <mosaik.simmanager.LocalProcess object at 0x7f4c2915fd30>),\n",
       " Entity('PyPower-0', '0-node_b5', 'PyPower', PQBus, [], <mosaik.simmanager.LocalProcess object at 0x7f4c2915fd30>),\n",
       " Entity('PyPower-0', '0-node_b6', 'PyPower', PQBus, [], <mosaik.simmanager.LocalProcess object at 0x7f4c2915fd30>),\n",
       " Entity('PyPower-0', '0-node_b7', 'PyPower', PQBus, [], <mosaik.simmanager.LocalProcess object at 0x7f4c2915fd30>),\n",
       " Entity('PyPower-0', '0-node_b8', 'PyPower', PQBus, [], <mosaik.simmanager.LocalProcess object at 0x7f4c2915fd30>),\n",
       " Entity('PyPower-0', '0-node_b9', 'PyPower', PQBus, [], <mosaik.simmanager.LocalProcess object at 0x7f4c2915fd30>),\n",
       " Entity('PyPower-0', '0-node_c1', 'PyPower', PQBus, [], <mosaik.simmanager.LocalProcess object at 0x7f4c2915fd30>),\n",
       " Entity('PyPower-0', '0-node_c10', 'PyPower', PQBus, [], <mosaik.simmanager.LocalProcess object at 0x7f4c2915fd30>),\n",
       " Entity('PyPower-0', '0-node_c11', 'PyPower', PQBus, [], <mosaik.simmanager.LocalProcess object at 0x7f4c2915fd30>),\n",
       " Entity('PyPower-0', '0-node_c12', 'PyPower', PQBus, [], <mosaik.simmanager.LocalProcess object at 0x7f4c2915fd30>),\n",
       " Entity('PyPower-0', '0-node_c2', 'PyPower', PQBus, [], <mosaik.simmanager.LocalProcess object at 0x7f4c2915fd30>),\n",
       " Entity('PyPower-0', '0-node_c3', 'PyPower', PQBus, [], <mosaik.simmanager.LocalProcess object at 0x7f4c2915fd30>),\n",
       " Entity('PyPower-0', '0-node_c4', 'PyPower', PQBus, [], <mosaik.simmanager.LocalProcess object at 0x7f4c2915fd30>),\n",
       " Entity('PyPower-0', '0-node_c5', 'PyPower', PQBus, [], <mosaik.simmanager.LocalProcess object at 0x7f4c2915fd30>),\n",
       " Entity('PyPower-0', '0-node_c6', 'PyPower', PQBus, [], <mosaik.simmanager.LocalProcess object at 0x7f4c2915fd30>),\n",
       " Entity('PyPower-0', '0-node_c7', 'PyPower', PQBus, [], <mosaik.simmanager.LocalProcess object at 0x7f4c2915fd30>),\n",
       " Entity('PyPower-0', '0-node_c8', 'PyPower', PQBus, [], <mosaik.simmanager.LocalProcess object at 0x7f4c2915fd30>),\n",
       " Entity('PyPower-0', '0-node_c9', 'PyPower', PQBus, [], <mosaik.simmanager.LocalProcess object at 0x7f4c2915fd30>),\n",
       " Entity('PyPower-0', '0-node_d1', 'PyPower', PQBus, [], <mosaik.simmanager.LocalProcess object at 0x7f4c2915fd30>),\n",
       " Entity('PyPower-0', '0-node_d10', 'PyPower', PQBus, [], <mosaik.simmanager.LocalProcess object at 0x7f4c2915fd30>),\n",
       " Entity('PyPower-0', '0-node_d11', 'PyPower', PQBus, [], <mosaik.simmanager.LocalProcess object at 0x7f4c2915fd30>),\n",
       " Entity('PyPower-0', '0-node_d12', 'PyPower', PQBus, [], <mosaik.simmanager.LocalProcess object at 0x7f4c2915fd30>),\n",
       " Entity('PyPower-0', '0-node_d2', 'PyPower', PQBus, [], <mosaik.simmanager.LocalProcess object at 0x7f4c2915fd30>),\n",
       " Entity('PyPower-0', '0-node_d3', 'PyPower', PQBus, [], <mosaik.simmanager.LocalProcess object at 0x7f4c2915fd30>),\n",
       " Entity('PyPower-0', '0-node_d4', 'PyPower', PQBus, [], <mosaik.simmanager.LocalProcess object at 0x7f4c2915fd30>),\n",
       " Entity('PyPower-0', '0-node_d5', 'PyPower', PQBus, [], <mosaik.simmanager.LocalProcess object at 0x7f4c2915fd30>),\n",
       " Entity('PyPower-0', '0-node_d6', 'PyPower', PQBus, [], <mosaik.simmanager.LocalProcess object at 0x7f4c2915fd30>),\n",
       " Entity('PyPower-0', '0-node_d7', 'PyPower', PQBus, [], <mosaik.simmanager.LocalProcess object at 0x7f4c2915fd30>),\n",
       " Entity('PyPower-0', '0-node_d8', 'PyPower', PQBus, [], <mosaik.simmanager.LocalProcess object at 0x7f4c2915fd30>),\n",
       " Entity('PyPower-0', '0-node_d9', 'PyPower', PQBus, [], <mosaik.simmanager.LocalProcess object at 0x7f4c2915fd30>)}"
      ]
     },
     "execution_count": 7,
     "metadata": {},
     "output_type": "execute_result"
    }
   ],
   "source": [
    "connect_randomly(world, houses, nodes, 'P')"
   ]
  },
  {
   "cell_type": "markdown",
   "metadata": {},
   "source": [
    "Start and instantiate data base."
   ]
  },
  {
   "cell_type": "code",
   "execution_count": 8,
   "metadata": {},
   "outputs": [
    {
     "name": "stdout",
     "output_type": "stream",
     "text": [
      "Starting \"DB\" as \"DB-0\" ...\n"
     ]
    }
   ],
   "source": [
    "db = world.start('DB', step_size=60, duration=END)\n",
    "hdf5 = db.Database(filename='demo.hdf5')"
   ]
  },
  {
   "cell_type": "markdown",
   "metadata": {},
   "source": [
    "Connect model enities to data base entity."
   ]
  },
  {
   "cell_type": "code",
   "execution_count": 9,
   "metadata": {
    "collapsed": true
   },
   "outputs": [],
   "source": [
    "connect_many_to_one(world, houses, hdf5, 'P')\n",
    "\n",
    "busses = [elem for elem in grid if elem.type in ('RefBus', 'PQBus')]\n",
    "branches = [elem for elem in grid if elem.type in ('Transformer', 'Branch')]\n",
    "connect_many_to_one(world, busses, hdf5, 'P', 'Q', 'Vl', 'Vm', 'Va')\n",
    "connect_many_to_one(world, branches, hdf5, 'P_from', 'Q_from', 'P_to')"
   ]
  },
  {
   "cell_type": "markdown",
   "metadata": {},
   "source": [
    "Execute co-simulation."
   ]
  },
  {
   "cell_type": "code",
   "execution_count": 10,
   "metadata": {},
   "outputs": [
    {
     "name": "stdout",
     "output_type": "stream",
     "text": [
      "Starting simulation.\n",
      "Simulation finished successfully.\n"
     ]
    }
   ],
   "source": [
    "world.run(until=END)"
   ]
  },
  {
   "cell_type": "code",
   "execution_count": null,
   "metadata": {
    "collapsed": true
   },
   "outputs": [],
   "source": []
  }
 ],
 "metadata": {
  "kernelspec": {
   "display_name": "Python 3",
   "language": "python",
   "name": "python3"
  },
  "language_info": {
   "codemirror_mode": {
    "name": "ipython",
    "version": 3
   },
   "file_extension": ".py",
   "mimetype": "text/x-python",
   "name": "python",
   "nbconvert_exporter": "python",
   "pygments_lexer": "ipython3",
   "version": "3.5.2"
  }
 },
 "nbformat": 4,
 "nbformat_minor": 2
}
